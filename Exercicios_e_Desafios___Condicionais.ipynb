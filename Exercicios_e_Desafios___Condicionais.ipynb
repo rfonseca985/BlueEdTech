{
  "nbformat": 4,
  "nbformat_minor": 0,
  "metadata": {
    "colab": {
      "name": "Exercicios_e_Desafios_-_Condicionais.ipynb",
      "provenance": [],
      "collapsed_sections": [],
      "authorship_tag": "ABX9TyNV2GkIpeo4qcLKk4qvGqrf",
      "include_colab_link": true
    },
    "kernelspec": {
      "name": "python3",
      "display_name": "Python 3"
    },
    "language_info": {
      "name": "python"
    }
  },
  "cells": [
    {
      "cell_type": "markdown",
      "metadata": {
        "id": "view-in-github",
        "colab_type": "text"
      },
      "source": [
        "<a href=\"https://colab.research.google.com/github/rfonseca985/BlueEdTech-modulo1/blob/main/Exercicios_e_Desafios___Condicionais.ipynb\" target=\"_parent\"><img src=\"https://colab.research.google.com/assets/colab-badge.svg\" alt=\"Open In Colab\"/></a>"
      ]
    },
    {
      "cell_type": "code",
      "metadata": {
        "colab": {
          "base_uri": "https://localhost:8080/"
        },
        "id": "dtVY4JQoJbk_",
        "outputId": "1dd93af5-e40e-47d1-f774-547e5eb27766"
      },
      "source": [
        "#Exercício 1\n",
        "n1 = int(input(\"Digite o primeiro numero: \"))\n",
        "n2 = int(input(\"Digite o segundo numero: \"))\n",
        "n3 = int(input(\"Digite o terceiro numero: \"))\n",
        "\n",
        "if n1 > n2 and n1 > n3:\n",
        "\tprint(\"O numero\",n1,\"é o maior\")                       \n",
        "elif n2 > n3 and n2 > n1:\n",
        "\tprint(\"O numero\",n2,\"é o maior\")\n",
        "else: \n",
        "\tprint(\"O numero\",n3,\"é o maior\")\n",
        " \n",
        "if n1< n2 and n1< n3:\n",
        "   print(\"O numero\",n1,\"é o menor\")\n",
        "elif n2 < n3 and n2 < n1:\n",
        "   print(\"O numero\",n2,\"é o menor\")\n",
        "else: \n",
        "\tprint(\"O numero\",n3,\"é o menor\")\n"
      ],
      "execution_count": null,
      "outputs": [
        {
          "output_type": "stream",
          "text": [
            "Digite o primeiro numero: 10\n",
            "Digite o segundo numero: 8\n",
            "Digite o terceiro numero: 5\n",
            "O numero 10 é o maior\n",
            "O numero 5 é o menor\n"
          ],
          "name": "stdout"
        }
      ]
    },
    {
      "cell_type": "code",
      "metadata": {
        "colab": {
          "base_uri": "https://localhost:8080/"
        },
        "id": "EuLYftpmLF3m",
        "outputId": "92b369a5-642e-43fb-e247-d77f76b9ff46"
      },
      "source": [
        "#Exercício 2\n",
        "num1 = input(\"Digite o primeiro numero: \")\n",
        "num2 = input(\"Digite o segundo numero: \")\n",
        "\n",
        "if num1 > num2 :\n",
        "  print(\"O número:\", num1,\"é maior\")\n",
        "else:\n",
        "  print(\"O número:\", num2,\"é maior\")   "
      ],
      "execution_count": null,
      "outputs": [
        {
          "output_type": "stream",
          "text": [
            "Digite o primeiro numero: 15\n",
            "Digite o segundo numero: 20\n",
            "O número: 20 é maior\n"
          ],
          "name": "stdout"
        }
      ]
    },
    {
      "cell_type": "code",
      "metadata": {
        "colab": {
          "base_uri": "https://localhost:8080/"
        },
        "id": "_2zLsrKKMLvm",
        "outputId": "bc270a54-bb3d-494a-acd1-529facf48fdc"
      },
      "source": [
        "#Exercício 3\n",
        "var = int(input(\"Digite o número que deseja consultar: \"))\n",
        "\n",
        "if (var % 2  == 0):\n",
        "  print(\"O número\",var,\"é par\")\n",
        "else:\n",
        "  print(\"O número\",var,\"é impar\")\n"
      ],
      "execution_count": null,
      "outputs": [
        {
          "output_type": "stream",
          "text": [
            "Digite o número que deseja consultar: 7988654\n",
            "O número 7988654 é par\n"
          ],
          "name": "stdout"
        }
      ]
    },
    {
      "cell_type": "code",
      "metadata": {
        "colab": {
          "base_uri": "https://localhost:8080/"
        },
        "id": "QLX7HqzNOWl8",
        "outputId": "e2abc476-d1c5-434a-e5bf-eaaf92479e53"
      },
      "source": [
        "#Exercício 4\n",
        "var_sexo = input(\"Digite seu sexo(F ou M):\")\n",
        "\n",
        "if var_sexo.upper() == \"F\":\n",
        "  print(\"Feminino\")\n",
        "elif var_sexo.upper() == \"M\":\n",
        "  print(\"Masculino\")\n",
        "else:\n",
        "  print(\"Sexo inválido\")"
      ],
      "execution_count": null,
      "outputs": [
        {
          "output_type": "stream",
          "text": [
            "Digite seu sexo(F ou M):t\n",
            "Sexo inválido\n"
          ],
          "name": "stdout"
        }
      ]
    },
    {
      "cell_type": "code",
      "metadata": {
        "colab": {
          "base_uri": "https://localhost:8080/"
        },
        "id": "doqG9nARReZV",
        "outputId": "3ea54f69-41c0-45d9-acac-02d2ddd494a8"
      },
      "source": [
        "#Exercício 5\n",
        "\n",
        "nota = float(input(\"Digite a nota do aluno: \"))\n",
        "\n",
        "if nota < 6.0:\n",
        "  print(\"Nota F\")\n",
        "elif nota >= 6.0 and nota < 7.0:\n",
        "  print(\"Nota D\")\n",
        "elif nota >= 7.0 and nota < 8.0:\n",
        "  print(\"Nota C\")\n",
        "elif nota >= 8.0 and nota < 9.0:\n",
        "  print(\"Nota B\")\n",
        "else:\n",
        "  print(\"Nota A\")"
      ],
      "execution_count": null,
      "outputs": [
        {
          "output_type": "stream",
          "text": [
            "Digite a nota do aluno: 9.0\n",
            "Nota A\n"
          ],
          "name": "stdout"
        }
      ]
    },
    {
      "cell_type": "code",
      "metadata": {
        "colab": {
          "base_uri": "https://localhost:8080/"
        },
        "id": "T8BtQhUUTngU",
        "outputId": "f4708ff3-eeee-4d14-9bde-efb7d859ee68"
      },
      "source": [
        "#Exercício 6\n",
        "\n",
        "letra = input(\"Digite uma letra: \")\n",
        "\n",
        "if letra.lower() == \"a\" or letra.lower() == \"e\" or letra.lower() == \"i\" or letra.lower() == \"o\" or letra.lower() == \"u\":\n",
        "  print(\"É uma vogal\")\n",
        "else:\n",
        "  print(\"É uma consoante\")"
      ],
      "execution_count": null,
      "outputs": [
        {
          "output_type": "stream",
          "text": [
            "Digite uma letra: l\n",
            "É uma consoante\n"
          ],
          "name": "stdout"
        }
      ]
    },
    {
      "cell_type": "code",
      "metadata": {
        "colab": {
          "base_uri": "https://localhost:8080/"
        },
        "id": "JrQAnEHgYHbE",
        "outputId": "15ffff22-8ee4-40b1-f906-7a92a4005dbb"
      },
      "source": [
        "#PROJETO 1\n",
        "\n",
        "era = input(\"Escolha ente Medieval ou Futurista :\")\n",
        "\n",
        "if era.upper() == \"MEDIEVAL\":\n",
        "  print(\"ESPADA\")\n",
        "  ataque = \"Espada\" \n",
        "elif era.upper() == \"FUTURISTA\":\n",
        "  print(\"SABRE DE LUZ\")\n",
        "  ataque = \"Sabre de luz\"\n",
        "else:\n",
        "  print(\"Opção inválida\")\n",
        "\n",
        "#Continuação do PROJETO 1\n",
        "if ataque == \"Espada\":\n",
        "  print(\"VOCÊ AINDA NÃO MATOU O CHEFÃO\")\n",
        "elif ataque == \"Sabre de luz\": \n",
        "  print(\"VOCÊ DERROTOU O CHEFÃO COM O SABRE DE LUZ\") \n",
        "else:\n",
        "  print(\"ATAQUE NOVAMENTE\")\n"
      ],
      "execution_count": null,
      "outputs": [
        {
          "output_type": "stream",
          "text": [
            "Escolha ente Medieval ou Futurista :medieval\n",
            "ESPADA\n",
            "VOCÊ AINDA NÃO MATOU O CHEFÃO\n"
          ],
          "name": "stdout"
        }
      ]
    },
    {
      "cell_type": "code",
      "metadata": {
        "colab": {
          "base_uri": "https://localhost:8080/"
        },
        "id": "gFhSUYgkbL-3",
        "outputId": "dd6c3e65-766e-4f55-cb65-2b754b0a8060"
      },
      "source": [
        "#DESAFIO - As empresas @.com resolveram dar um aumento de salário aos seus colaboradores e lhe contrataram para desenvolver o programa que calculará os reajustes\n",
        "\n",
        "salario = float(input(\"Digite o salário de um colaborador\"))\n",
        "\n",
        "if salario < 280.00:\n",
        "  salario_reajuste = salario * 1.20\n",
        "  print(\"Salário antes do reajuste: R$ {0:.2f}\".format(salario))\n",
        "  print(\"Porcentagem de ajuste: 20%\")\n",
        "  print(\"Valor do reajuste: R$ {0:.2f}\".format(salario_reajuste - salario))\n",
        "  print(\"R$ {0:.2f}\".format(salario_reajuste))\n",
        "elif salario >= 280.00 and salario < 700.00 :\n",
        "  salario_reajuste = salario * 1.15\n",
        "  print(\"Salário antes do reajuste: R$ {0:.2f}\" .format(salario))\n",
        "  print(\"Porcentagem de ajuste: 15%\")\n",
        "  print(\"Valor do reajuste: R$ {0:.2f}\" .format(salario_reajuste - salario))\n",
        "  print(\"R$ {0:.2f}\".format(salario_reajuste))\n",
        "elif salario >= 700.00 and salario < 1500.00 :\n",
        "  salario_reajuste = salario * 1.10\n",
        "  print(\"Salário antes do reajuste: R$ {0:.2f}\".format(salario))\n",
        "  print(\"Porcentagem de ajuste: 10%\")\n",
        "  print(\"Valor do reajuste: R$ {0:.2f}\".format(salario_reajuste - salario))\n",
        "  print(\"R$ {0:.2f}\".format(salario_reajuste))\n",
        "else:\n",
        "  salario_reajuste = salario * 1.05\n",
        "  print(\"Salário antes do reajuste: R$ {0:.2f}\".format(salario))\n",
        "  print(\"Porcentagem de ajuste: 5%\")\n",
        "  print(\"Valor do reajuste: R$ {0:.2f}\".format(salario_reajuste - salario))\n",
        "  print(\"R$ {0:.2f}\".format(salario_reajuste))\n",
        "\n",
        "\n"
      ],
      "execution_count": null,
      "outputs": [
        {
          "output_type": "stream",
          "text": [
            "Digite o salário de um colaborador900\n",
            "Salário antes do reajuste: R$ 900.00\n",
            "Porcentagem de ajuste: 20%\n",
            "Valor do reajuste: R$ 180.00\n",
            "R$ 1080.00\n"
          ],
          "name": "stdout"
        }
      ]
    },
    {
      "cell_type": "code",
      "metadata": {
        "colab": {
          "base_uri": "https://localhost:8080/"
        },
        "id": "jFgRSUsFhhv5",
        "outputId": "ba522a88-c112-4f81-bba9-4e02d3d03cb1"
      },
      "source": [
        "#DESAFIO\n",
        "\n",
        "saque = float(input(\"Digite o valor do saque(Minino R$10 e Máximo R$ 600):\"))\n",
        "\n",
        "cem = int(saque / 100)\n",
        "saque = saque % 100\n",
        "    \n",
        "cinquenta = int(saque/50)\n",
        "saque = saque % 50\n",
        "\n",
        "dez = int(saque/10)\n",
        "saque = saque % 10\n",
        "\n",
        "cinco = int(saque/5)\n",
        "saque = saque % 5\n",
        "\n",
        "um = saque\n",
        "    \n",
        "print('Notas R$100,00 = ',cem)\n",
        "print('Notas R$ 50,00 = ',cinquenta)\n",
        "print('Notas R$ 10,00 = ',dez)\n",
        "print('Notas R$  5,00 = ',cinco)\n",
        "print('Notas R$  1,00 = ',um)"
      ],
      "execution_count": null,
      "outputs": [
        {
          "output_type": "stream",
          "text": [
            "Digite o valor do saque(Minino R$10 e Máximo R$ 600):485\n",
            "Notas R$100,00 =  4\n",
            "Notas R$ 50,00 =  1\n",
            "Notas R$ 10,00 =  3\n",
            "Notas R$  5,00 =  1\n",
            "Notas R$  1,00 =  0.0\n"
          ],
          "name": "stdout"
        }
      ]
    }
  ]
}