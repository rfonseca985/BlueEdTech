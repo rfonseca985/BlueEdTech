{
  "nbformat": 4,
  "nbformat_minor": 0,
  "metadata": {
    "colab": {
      "name": "Exercício aula 5.ipynb",
      "provenance": [],
      "collapsed_sections": [],
      "authorship_tag": "ABX9TyMi6GNM/y8lOFFwH5XqUZ6z",
      "include_colab_link": true
    },
    "kernelspec": {
      "name": "python3",
      "display_name": "Python 3"
    },
    "language_info": {
      "name": "python"
    }
  },
  "cells": [
    {
      "cell_type": "markdown",
      "metadata": {
        "id": "view-in-github",
        "colab_type": "text"
      },
      "source": [
        "<a href=\"https://colab.research.google.com/github/rfonseca985/BlueEdTech-modulo1/blob/main/Exerc%C3%ADcio_aula_5.ipynb\" target=\"_parent\"><img src=\"https://colab.research.google.com/assets/colab-badge.svg\" alt=\"Open In Colab\"/></a>"
      ]
    },
    {
      "cell_type": "code",
      "metadata": {
        "id": "-n2Fu0Ekqj8g",
        "colab": {
          "base_uri": "https://localhost:8080/"
        },
        "outputId": "4bce4967-7f56-4bd7-a266-005573f44081"
      },
      "source": [
        "n1 = 5\n",
        "n2 = 10\n",
        "n3 = 2\n",
        "\n",
        "if n1 > n2 and n1 > n3:\n",
        "\tprint(\"O numero\",n1,\"é o maior\")                       \n",
        "elif n2 > n3:\n",
        "\tprint(\"O numero\",n2,\"é o maior\")\n",
        "else: \n",
        "\tprint(\"O numero\",n3,\"é o maior\")\n",
        " \n",
        "if n1< n2 and n1< n3:\n",
        "   print(\"O numero\",n1,\"é o menor\")\n",
        "elif n2 < n3:\n",
        "   print(\"O numero\",n2,\"é o menor\")\n",
        "else: \n",
        "\tprint(\"O numero\",n3,\"é o menor\")\n",
        "\n",
        "\n",
        "\n",
        "  "
      ],
      "execution_count": 17,
      "outputs": [
        {
          "output_type": "stream",
          "text": [
            "O numero 10 é o maior\n",
            "O numero 2 é o menor\n"
          ],
          "name": "stdout"
        }
      ]
    }
  ]
}